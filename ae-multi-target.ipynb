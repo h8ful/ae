{
 "cells": [
  {
   "cell_type": "code",
   "execution_count": 1,
   "metadata": {},
   "outputs": [],
   "source": [
    "%matplotlib inline\n",
    "import matplotlib.pyplot as plt\n",
    "\n",
    "from __future__ import print_function\n",
    "import torch\n",
    "import torch.nn as nn\n",
    "import os\n",
    "import numpy as np\n",
    "\n",
    "from torch.autograd import Variable\n",
    "from torch.utils.data import Dataset\n",
    "from torch.utils.data import DataLoader\n",
    "from scipy.io import mmread\n",
    "\n",
    "import pandas as pd\n"
   ]
  },
  {
   "cell_type": "code",
   "execution_count": 2,
   "metadata": {
    "collapsed": true
   },
   "outputs": [],
   "source": [
    "import rec \n",
    "# reload(rec)\n",
    "def pred_recommend(train, test, predicted):\n",
    "    r = rec.Rec(topk = 5)\n",
    "    r.fit(train.T)\n",
    "    t = predicted.T\n",
    "    targets = np.unique(test.nonzero()[0])\n",
    "    r.predict( t,targets)\n",
    "    perf = r.evaluate(test)\n",
    "    return perf"
   ]
  },
  {
   "cell_type": "code",
   "execution_count": 4,
   "metadata": {},
   "outputs": [],
   "source": [
    "from cf2 import IBCF\n",
    "def cf_on_hidden_layer(knn, train, hidden_layers, test):\n",
    "    test = test\n",
    "    targets = np.unique(test.nonzero()[0])\n",
    "    cf = IBCF(sim='cosine',knn=knn,topk=5)\n",
    "# #     precision, recall = cf.score(train.T, test)\n",
    "# #     print(precision,recall)\n",
    "    cf.fit(train.T, X=hidden_layers.T)\n",
    "    cf.predict(targets)\n",
    "    perf = (knn,cf.evaluate(test) )\n",
    "    return perf"
   ]
  },
  {
   "cell_type": "code",
   "execution_count": null,
   "metadata": {
    "collapsed": true
   },
   "outputs": [],
   "source": [
    "class Net(nn.Module):\n",
    "    def __init__(self, input_size, hidden_size, output_size):\n",
    "        super(Net, self).__init__()\n",
    "        self.encoder = nn.Linear(input_size, hidden_size)\n",
    "        self.relu = nn.ReLU()\n",
    "        self.decoder = nn.Linear(hidden_size, output_size)\n",
    "        self.repres = dict()\n",
    "\n",
    "    def forward(self, x):\n",
    "        out = self.encoder(x)\n",
    "        self.repres['hidden'] = out.clone()\n",
    "        out = self.relu(out)\n",
    "        self.repres['hidden_relu'] = out.clone()\n",
    "        out = self.decoder(out)\n",
    "        self.repres['output'] = out.clone()\n",
    "        return out\n"
   ]
  },
  {
   "cell_type": "code",
   "execution_count": null,
   "metadata": {
    "collapsed": true
   },
   "outputs": [],
   "source": [
    "input_size = 6040\n",
    "hidden_size = 1000\n",
    "output_size = 6040\n",
    "loss_history = list()\n",
    "learning_rate = 0.001\n",
    "\n",
    "knn = 500\n",
    "\n",
    "pred_perf = dict()\n",
    "cf_perf = dict()\n",
    "\n",
    "net = Net(input_size, hidden_size, output_size)\n",
    "\n",
    "certeria = nn.MSELoss()\n",
    "optimizer = torch.optim.Adam(net.parameters(), lr=learning_rate)\n",
    "print(net.train())\n",
    "num_epochs = 20\n",
    "for epoch in range(num_epochs):\n",
    "    for i_batch, sample_batched in enumerate(data.train_loader):\n",
    "#         print(i_batch,sample_batched)\n",
    "        sample = Variable(sample_batched['sample'])\n",
    "#         print(sample)\n",
    "#         sample = Variable()\n",
    "        # Forward + Backward + Optimize\n",
    "        optimizer.zero_grad()  # zero the gradient buffer\n",
    "        outputs = net(sample)\n",
    "        loss = certeria(outputs, sample)\n",
    "#         print(i_batch, loss.data[0])\n",
    "        loss.backward()\n",
    "        optimizer.step()\n",
    "        \n",
    "        print ('Epoch [%d/%d], Step [%d/%d], Loss: %.4f'\n",
    "                   % (epoch + 1, num_epochs, i_batch + 1, \n",
    "                      len(data.train_loader) ,loss.data[0]))\n",
    "        loss_history.append(loss.data[0])\n",
    "    repres = dict()\n",
    "    if (epoch+1) % 5 == 0:\n",
    "#         model = copy.deepcopy(net)\n",
    "        name = 'test-repres-%s-epoch_%s_cv.%s'%(str(net).replace('\\n',''), epoch+1, cv)\n",
    "        torch.save(net.state_dict(), name)\n",
    "        repres[epoch] = dict()\n",
    "        print('recommendataion on prediction... Epoch %s'%(epoch+1))\n",
    "        loss_df= pd.DataFrame(loss_history,columns=['loss'])\n",
    "        loss_df.plot(title='cv = %s, epoch = %s'%(cv,epoch+1))\n",
    "        predicted = np.zeros_like(data.train_dataset.train)\n",
    "        # dataset.test_dataset.part = 'all'\n",
    "        for key in net.repres.keys():\n",
    "            repres[epoch][key] = np.zeros([net.repres[key].data.numpy().shape[1], data.train_dataset.train.shape[1]])\n",
    "        for item_id in xrange(data.train_dataset.train.shape[1]):\n",
    "            sample = Variable(torch.from_numpy(data.train_dataset.train[:,item_id]))\n",
    "            output = net(sample)\n",
    "            for key in net.repres.keys():\n",
    "                r = repres[epoch][key]\n",
    "                r[:,item_id] = net.repres[key].data.numpy()\n",
    "\n",
    "        #     print(type(test_input['id']))\n",
    "            predicted[:,item_id] = output.data.numpy()\n",
    "        pred_perf[epoch+1] = pred_recommend(train=data.train_dataset.train , test=data.test_dataset.test, predicted= predicted)\n",
    "        \n",
    "        for key in net.repres.keys():\n",
    "            print('recommendataion on cf_hidden... Epoch %s, layper %s'%(epoch, key))\n",
    "            hidden_layer = output.data.numpy()\n",
    "            cf_result = cf_on_hidden_layer(knn=knn,train = data.train_dataset.train, hidden_layers=repres[epoch][key], test=data.test_dataset.test)\n",
    "            cf_perf[(epoch+1, key)] = (cf_result)            \n"
   ]
  }
 ],
 "metadata": {
  "kernelspec": {
   "display_name": "Python 2",
   "language": "python",
   "name": "python2"
  },
  "language_info": {
   "codemirror_mode": {
    "name": "ipython",
    "version": 2
   },
   "file_extension": ".py",
   "mimetype": "text/x-python",
   "name": "python",
   "nbconvert_exporter": "python",
   "pygments_lexer": "ipython2",
   "version": "2.7.13"
  }
 },
 "nbformat": 4,
 "nbformat_minor": 2
}
