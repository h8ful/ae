{
 "cells": [
  {
   "cell_type": "code",
   "execution_count": 1,
   "metadata": {
    "collapsed": true
   },
   "outputs": [],
   "source": [
    "import dataset3"
   ]
  },
  {
   "cell_type": "code",
   "execution_count": 2,
   "metadata": {
    "collapsed": true
   },
   "outputs": [],
   "source": [
    "data3 = dataset3.load_data(1)"
   ]
  },
  {
   "cell_type": "code",
   "execution_count": 3,
   "metadata": {
    "collapsed": true
   },
   "outputs": [],
   "source": [
    "import rec3\n"
   ]
  },
  {
   "cell_type": "markdown",
   "metadata": {},
   "source": [
    "ae"
   ]
  },
  {
   "cell_type": "code",
   "execution_count": 5,
   "metadata": {
    "collapsed": true
   },
   "outputs": [],
   "source": [
    "import torch\n",
    "import torch.nn as nn\n",
    "import torch.nn.functional as F\n",
    "import os\n",
    "import numpy as np\n",
    "\n",
    "from torch.autograd import Variable\n",
    "from torch.utils.data import Dataset\n",
    "from torch.utils.data import DataLoader\n",
    "\n",
    "\n",
    "import pandas as pd\n",
    "\n"
   ]
  },
  {
   "cell_type": "code",
   "execution_count": 5,
   "metadata": {
    "collapsed": true
   },
   "outputs": [],
   "source": [
    "%matplotlib inline\n",
    "import matplotlib.pyplot as plt"
   ]
  },
  {
   "cell_type": "code",
   "execution_count": 9,
   "metadata": {
    "collapsed": true
   },
   "outputs": [],
   "source": [
    "def weighted_average(input, targets, weights):\n",
    "    return nn.functional.mse_loss(input.mul(weights), targets.mul(weights),size_average=False)*1.0/weights.sum()"
   ]
  },
  {
   "cell_type": "code",
   "execution_count": 4,
   "metadata": {},
   "outputs": [
    {
     "ename": "NameError",
     "evalue": "name 'nn' is not defined",
     "output_type": "error",
     "traceback": [
      "\u001b[0;31m---------------------------------------------------------------------------\u001b[0m",
      "\u001b[0;31mNameError\u001b[0m                                 Traceback (most recent call last)",
      "\u001b[0;32m<ipython-input-4-d2c3748cb983>\u001b[0m in \u001b[0;36m<module>\u001b[0;34m()\u001b[0m\n\u001b[0;32m----> 1\u001b[0;31m \u001b[0;32mclass\u001b[0m \u001b[0mNet\u001b[0m\u001b[0;34m(\u001b[0m\u001b[0mnn\u001b[0m\u001b[0;34m.\u001b[0m\u001b[0mModule\u001b[0m\u001b[0;34m)\u001b[0m\u001b[0;34m:\u001b[0m\u001b[0;34m\u001b[0m\u001b[0m\n\u001b[0m\u001b[1;32m      2\u001b[0m     \u001b[0;32mdef\u001b[0m \u001b[0m__init__\u001b[0m\u001b[0;34m(\u001b[0m\u001b[0mself\u001b[0m\u001b[0;34m,\u001b[0m \u001b[0minput_size\u001b[0m\u001b[0;34m,\u001b[0m \u001b[0mhidden_size\u001b[0m\u001b[0;34m,\u001b[0m \u001b[0moutput_size\u001b[0m\u001b[0;34m)\u001b[0m\u001b[0;34m:\u001b[0m\u001b[0;34m\u001b[0m\u001b[0m\n\u001b[1;32m      3\u001b[0m         \u001b[0msuper\u001b[0m\u001b[0;34m(\u001b[0m\u001b[0mNet\u001b[0m\u001b[0;34m,\u001b[0m \u001b[0mself\u001b[0m\u001b[0;34m)\u001b[0m\u001b[0;34m.\u001b[0m\u001b[0m__init__\u001b[0m\u001b[0;34m(\u001b[0m\u001b[0;34m)\u001b[0m\u001b[0;34m\u001b[0m\u001b[0m\n\u001b[1;32m      4\u001b[0m         \u001b[0mself\u001b[0m\u001b[0;34m.\u001b[0m\u001b[0mrepresentations\u001b[0m \u001b[0;34m=\u001b[0m \u001b[0mdict\u001b[0m\u001b[0;34m(\u001b[0m\u001b[0;34m)\u001b[0m\u001b[0;34m\u001b[0m\u001b[0m\n\u001b[1;32m      5\u001b[0m         \u001b[0mself\u001b[0m\u001b[0;34m.\u001b[0m\u001b[0mencoder\u001b[0m \u001b[0;34m=\u001b[0m \u001b[0mnn\u001b[0m\u001b[0;34m.\u001b[0m\u001b[0mLinear\u001b[0m\u001b[0;34m(\u001b[0m\u001b[0minput_size\u001b[0m\u001b[0;34m,\u001b[0m \u001b[0mhidden_size\u001b[0m\u001b[0;34m)\u001b[0m\u001b[0;34m\u001b[0m\u001b[0m\n",
      "\u001b[0;31mNameError\u001b[0m: name 'nn' is not defined"
     ]
    }
   ],
   "source": [
    "class Net(nn.Module):\n",
    "    def __init__(self, input_size, hidden_size, output_size):\n",
    "        super(Net, self).__init__()\n",
    "        self.representations = dict()\n",
    "        self.encoder = nn.Linear(input_size, hidden_size)\n",
    "        self.decoder = nn.Linear(hidden_size, output_size)\n",
    "\n",
    "    def forward(self, x):\n",
    "        out = self.encoder(x)\n",
    "        out = self.decoder(out)\n",
    "        return out"
   ]
  },
  {
   "cell_type": "code",
   "execution_count": 7,
   "metadata": {
    "collapsed": true
   },
   "outputs": [],
   "source": [
    "input_size = 6040\n",
    "hidden_size = 200\n",
    "output_size = 6040\n",
    "learning_rate = 0.001\n",
    "cf_flag=False\n",
    "\n",
    "\n",
    "num_epochs = 15\n",
    "\n",
    "cv = 1\n",
    "\n"
   ]
  },
  {
   "cell_type": "code",
   "execution_count": 3,
   "metadata": {},
   "outputs": [
    {
     "ename": "NameError",
     "evalue": "name 'Net' is not defined",
     "output_type": "error",
     "traceback": [
      "\u001b[0;31m---------------------------------------------------------------------------\u001b[0m",
      "\u001b[0;31mNameError\u001b[0m                                 Traceback (most recent call last)",
      "\u001b[0;32m<ipython-input-3-a202749ce907>\u001b[0m in \u001b[0;36m<module>\u001b[0;34m()\u001b[0m\n\u001b[1;32m     12\u001b[0m \u001b[0;34m\u001b[0m\u001b[0m\n\u001b[1;32m     13\u001b[0m \u001b[0;34m\u001b[0m\u001b[0m\n\u001b[0;32m---> 14\u001b[0;31m \u001b[0mnet\u001b[0m \u001b[0;34m=\u001b[0m \u001b[0mNet\u001b[0m\u001b[0;34m(\u001b[0m\u001b[0minput_size\u001b[0m\u001b[0;34m,\u001b[0m \u001b[0mhidden_size\u001b[0m\u001b[0;34m,\u001b[0m \u001b[0moutput_size\u001b[0m\u001b[0;34m)\u001b[0m\u001b[0;34m\u001b[0m\u001b[0m\n\u001b[0m\u001b[1;32m     15\u001b[0m \u001b[0;31m# net = nn.DataParallel(net)\u001b[0m\u001b[0;34m\u001b[0m\u001b[0;34m\u001b[0m\u001b[0m\n\u001b[1;32m     16\u001b[0m \u001b[0;34m\u001b[0m\u001b[0m\n",
      "\u001b[0;31mNameError\u001b[0m: name 'Net' is not defined"
     ]
    }
   ],
   "source": [
    "representations = dict()\n",
    "loss_history = list()\n",
    "\n",
    "train_precision = dict()\n",
    "test_precision = dict()\n",
    "\n",
    "train_cf_precision = dict()\n",
    "test_cf_precision = dict()\n",
    "\n",
    "train_mse = dict()\n",
    "test_mse = dict()\n",
    "\n",
    "\n",
    "net = Net(input_size, hidden_size, output_size)\n",
    "# net = nn.DataParallel(net)\n",
    "\n",
    "certeria = nn.MSELoss()\n",
    "optimizer = torch.optim.Adam(net.parameters(), lr=learning_rate)\n",
    "print(net)\n",
    "net.cuda()\n",
    "for epoch in range(num_epochs):\n",
    "    for i_batch, sample_batched in enumerate(data3.train_loader):\n",
    "        net.train()\n",
    "        id_batch = sample_batched['id']\n",
    "        sample = Variable(sample_batched['sample']).cuda()\n",
    "        groud_truth = Variable(torch.from_numpy(data3.train_dataset.known.T[id_batch.numpy()])).cuda()\n",
    "\n",
    "#         dropout_index = \n",
    "        # Forward + Backward + Optimize\n",
    "        optimizer.zero_grad()  # zero the gradient buffer\n",
    "        outputs = net(sample)\n",
    "        loss = certeria(outputs, groud_truth)\n",
    "#         print(i_batch, loss.data[0])\n",
    "        loss.backward()\n",
    "        optimizer.step()\n",
    "        \n",
    "        print ('Epoch [%d/%d], Step [%d/%d], Loss: %.4f'\n",
    "                   % (epoch + 1, num_epochs, i_batch + 1, \n",
    "                      len(data3.train_loader) ,loss.data[0]))\n",
    "        loss_history.append(loss.data[0])\n",
    "    iters = epoch +1\n",
    "    if (iters) % 1 == 0:\n",
    "        print ('_'*60)\n",
    "\n",
    "        print('iteration %s:'%iters)\n",
    "        name = 'ae-%s-epoch_%s_cv_%s'%(str(net).replace('\\n',''), epoch+1, cv)\n",
    "        loss_df= pd.DataFrame(loss_history,columns=['loss'])\n",
    "        loss_df.plot(title=name)\n",
    "        plt.show()\n",
    "\n",
    "        net.eval()\n",
    "        # reconstruct \n",
    "        print(\"reconstructing...\")\n",
    "\n",
    "        input_matrix = Variable(torch.from_numpy(data3.train_dataset.known.T)).cuda()\n",
    "        reconstructed = net(input_matrix).cpu()\n",
    "        # copy representations\n",
    "        representations[iters] = dict()\n",
    "        for key in net.representations.keys():\n",
    "            representations[iters][key] = net.representations[key].copy()\n",
    "#         print((reconstructed.size()))\n",
    "        print('computing mse...')\n",
    "        test_user_mask = np.zeros_like(data3.train_dataset.known)\n",
    "        test_user_mask[data3.test_dataset.targets,:] = 1\n",
    "        test_user_mask = Variable(torch.from_numpy(test_user_mask))\n",
    "        train_mse[iters] = weighted_average(reconstructed, \n",
    "                                            Variable(torch.from_numpy(data3.train_dataset.known)),\n",
    "                                            (1-test_user_mask)).data.numpy()[0]\n",
    "        test_mse[iters] = weighted_average(reconstructed, \n",
    "                                           Variable(torch.from_numpy(data3.train_dataset.known)),\n",
    "                                           (test_user_mask)).data.numpy()[0]\n",
    "#         print((reconstructed.size()))\n",
    "\n",
    "        print('prediction, computing precision...')\n",
    "        reconstructed = reconstructed.data.numpy()\n",
    "        reconstructed = reconstructed.T\n",
    "#         print((reconstructed.shape))\n",
    "\n",
    "        train_rec = rec_pred(reconstructed, train = np.zeros_like(data3.train_dataset.known), test = data3.train_dataset.known, \n",
    "                             targets = data3.train_dataset.train_users)\n",
    "        test_rec = rec_pred(reconstructed, train = data3.train_dataset.known, test = data3.test_dataset.test, \n",
    "                             targets = data3.test_dataset.targets)\n",
    "        train_precision[iters] = (train_rec.precision_, train_rec.recall_)\n",
    "        test_precision[iters] = (test_rec.precision_, test_rec.recall_)\n",
    "    \n",
    "        if cf_flag:\n",
    "        # CF on representations\n",
    "            print (\"CF on representations...\")\n",
    "            test_cf_precision[iters] = dict()\n",
    "            for key in representations[iters].keys():\n",
    "    #             for sim in ['dot']:\n",
    "                for sim in ['dot','asymcos','cosine']:\n",
    "                    cf = rec3.IBCF(sim=sim)\n",
    "                    cf.fit(train_ratings=data3.train_dataset.train, profile = representations[iters][key])\n",
    "\n",
    "    #                 for knn in [5]:\n",
    "                    for knn in [5,50,100,200,500, 1000]:\n",
    "                            print (\"CF (%s,%s,%s) on representations...\"%((key,sim,knn)))\n",
    "\n",
    "                            cf.compute_score(input_ratings = data3.train_dataset.newusers, topN = knn ,\n",
    "                                                     targets=data3.test_dataset.targets)\n",
    "                            cf.produce_reclist(targets=data3.test_dataset.targets)\n",
    "                            tmp_cf_perf = cf.evaluate(test=data3.test_dataset.test, rec_len = 5)\n",
    "                            test_cf_precision[iters][key,sim,knn] = ( tmp_cf_perf)\n",
    "\n",
    "        print(\"train_precision:\")\n",
    "        pprint(train_precision)\n",
    "        print(\"test_precision\" )\n",
    "        pprint(test_precision)\n",
    "        \n",
    "        if cf_flag:\n",
    "            print(\"test_cf_precision:\")\n",
    "            pprint(test_cf_precision)\n",
    "\n",
    "        print(\"train_mse:\")\n",
    "        pprint(train_mse)\n",
    "        print(\"test_mse\" )\n",
    "        pprint(test_mse)\n",
    "\n",
    "        print ('_'*60)\n"
   ]
  },
  {
   "cell_type": "code",
   "execution_count": 2,
   "metadata": {},
   "outputs": [],
   "source": [
    "import sys\n",
    "sys.getrefcount()"
   ]
  },
  {
   "cell_type": "code",
   "execution_count": 6,
   "metadata": {},
   "outputs": [
    {
     "ename": "NameError",
     "evalue": "name 'Net' is not defined",
     "output_type": "error",
     "traceback": [
      "\u001b[0;31m---------------------------------------------------------------------------\u001b[0m",
      "\u001b[0;31mNameError\u001b[0m                                 Traceback (most recent call last)",
      "\u001b[0;32m<ipython-input-6-954738a49586>\u001b[0m in \u001b[0;36m<module>\u001b[0;34m()\u001b[0m\n\u001b[0;32m----> 1\u001b[0;31m \u001b[0mnet\u001b[0m \u001b[0;34m=\u001b[0m \u001b[0mNet\u001b[0m\u001b[0;34m(\u001b[0m\u001b[0minput_size\u001b[0m\u001b[0;34m,\u001b[0m \u001b[0mhidden_size\u001b[0m\u001b[0;34m,\u001b[0m \u001b[0moutput_size\u001b[0m\u001b[0;34m)\u001b[0m\u001b[0;34m\u001b[0m\u001b[0m\n\u001b[0m",
      "\u001b[0;31mNameError\u001b[0m: name 'Net' is not defined"
     ]
    }
   ],
   "source": [
    "net = Net(input_size, hidden_size, output_size)\n"
   ]
  }
 ],
 "metadata": {
  "kernelspec": {
   "display_name": "Python 2",
   "language": "python",
   "name": "python2"
  },
  "language_info": {
   "codemirror_mode": {
    "name": "ipython",
    "version": 2
   },
   "file_extension": ".py",
   "mimetype": "text/x-python",
   "name": "python",
   "nbconvert_exporter": "python",
   "pygments_lexer": "ipython2",
   "version": "2.7.13"
  }
 },
 "nbformat": 4,
 "nbformat_minor": 1
}
